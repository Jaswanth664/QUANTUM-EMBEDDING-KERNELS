{
  "nbformat": 4,
  "nbformat_minor": 0,
  "metadata": {
    "colab": {
      "provenance": []
    },
    "kernelspec": {
      "name": "python3",
      "display_name": "Python 3"
    },
    "language_info": {
      "name": "python"
    }
  },
  "cells": [
    {
      "cell_type": "code",
      "execution_count": null,
      "metadata": {
        "id": "E_b5zkBtiLed"
      },
      "outputs": [],
      "source": []
    },
    {
      "cell_type": "code",
      "source": [
        "# Step 1: Install the required packages\n",
        "!pip install pennylane pennylane-lightning numpy scikit-learn scipy joblib\n",
        "\n",
        "# Step 2: Import necessary libraries\n",
        "import time\n",
        "import pennylane as qml\n",
        "from pennylane import numpy as np\n",
        "from sklearn.datasets import load_iris\n",
        "from scipy.optimize import minimize\n",
        "from sklearn.svm import SVC\n",
        "from sklearn.model_selection import train_test_split\n",
        "from joblib import Parallel, delayed\n",
        "\n",
        "# Load the Iris dataset and select samples from two classes (class 0 and class 1)\n",
        "data = load_iris()\n",
        "X = data.data\n",
        "y = data.target\n",
        "\n",
        "# Select samples from class 0 and class 1 only\n",
        "class_0 = X[y == 0][:15]  # First 15 samples of class 0\n",
        "class_1 = X[y == 1][:15]  # First 15 samples of class 1\n",
        "\n",
        "# Combine the selected samples\n",
        "X = np.concatenate([class_0, class_1], axis=0)\n",
        "y = np.array([0]*15 + [1]*15)\n",
        "\n",
        "# Print dataset information\n",
        "print(f\"Number of samples: {X.shape[0]}\")\n",
        "print(f\"Number of features: {X.shape[1]}\")\n",
        "print(f\"Class distribution: {np.bincount(y)}\")\n",
        "\n",
        "# Define the number of qubits\n",
        "n_qubits = X.shape[1]\n",
        "dev = qml.device('default.qubit', wires=n_qubits)\n",
        "\n",
        "# Define the quantum feature map\n",
        "def quantum_feature_map(x, params):\n",
        "    for i in range(n_qubits):\n",
        "        qml.RY(x[i % len(x)], wires=i)\n",
        "    for i in range(n_qubits):\n",
        "        qml.RZ(params[i], wires=i)\n",
        "    qml.broadcast(qml.CNOT, wires=range(n_qubits), pattern=\"ring\")\n",
        "\n",
        "# Define the variational quantum circuit\n",
        "@qml.qnode(dev)\n",
        "def variational_circuit(x, params):\n",
        "    quantum_feature_map(x, params)\n",
        "    return qml.state()\n",
        "\n",
        "# Initialize random parameters\n",
        "np.random.seed(42)\n",
        "params = np.random.uniform(0, np.pi, n_qubits)\n",
        "\n",
        "def compute_qek_matrix(X, params):\n",
        "    n_samples = len(X)\n",
        "    qek_matrix = np.zeros((n_samples, n_samples))\n",
        "\n",
        "    def compute_element(i, j):\n",
        "        state_i = variational_circuit(X[i], params)\n",
        "        state_j = variational_circuit(X[j], params)\n",
        "        return np.abs(np.dot(np.conj(state_i), state_j))**2\n",
        "\n",
        "    results = Parallel(n_jobs=-1)(delayed(compute_element)(i, j) for i in range(n_samples) for j in range(n_samples))\n",
        "    qek_matrix = np.array(results).reshape(n_samples, n_samples)\n",
        "\n",
        "    return qek_matrix\n",
        "\n",
        "qek_matrix = compute_qek_matrix(X, params)\n",
        "\n",
        "# Define the kernel-target alignment objective\n",
        "def kernel_target_alignment(params, X, y):\n",
        "    qek_matrix = compute_qek_matrix(X, params)\n",
        "    y_matrix = np.outer(y, y)\n",
        "    alignment = np.sum(qek_matrix * y_matrix)\n",
        "    return -alignment  # Negate for minimization\n",
        "\n",
        "# Optimize the parameters\n",
        "result = minimize(kernel_target_alignment, params, args=(X, y), method='COBYLA')\n",
        "optimized_params = result.x\n",
        "\n",
        "# Compute the optimized QEK matrix\n",
        "optimized_qek_matrix = compute_qek_matrix(X, optimized_params)\n",
        "\n",
        "# Split the dataset into training and testing sets\n",
        "X_train, X_test, y_train, y_test = train_test_split(X, y, test_size=0.2, random_state=42)\n",
        "\n",
        "# Extract the corresponding training and testing indices for the QEK matrices\n",
        "train_indices = np.array([np.where((X == train_instance).all(axis=1))[0][0] for train_instance in X_train])\n",
        "test_indices = np.array([np.where((X == test_instance).all(axis=1))[0][0] for test_instance in X_test])\n",
        "\n",
        "# Ensure the correct dimensions for the training and testing matrices\n",
        "K_train = optimized_qek_matrix[np.ix_(train_indices, train_indices)]\n",
        "K_test = optimized_qek_matrix[np.ix_(test_indices, train_indices)]\n",
        "\n",
        "# Train the SVM classifier\n",
        "svm = SVC(kernel='precomputed')\n",
        "svm.fit(K_train, y_train)\n",
        "\n",
        "# Evaluate the classifier\n",
        "accuracy = svm.score(K_test, y_test)\n",
        "print(f'Classification accuracy: {accuracy:.2f}')\n"
      ],
      "metadata": {
        "colab": {
          "base_uri": "https://localhost:8080/"
        },
        "id": "2iJCLAwNDbHS",
        "outputId": "753c6891-5cde-4dbd-858d-0a9f03cfce86"
      },
      "execution_count": null,
      "outputs": [
        {
          "output_type": "stream",
          "name": "stdout",
          "text": [
            "Requirement already satisfied: pennylane in /usr/local/lib/python3.10/dist-packages (0.36.0)\n",
            "Requirement already satisfied: pennylane-lightning in /usr/local/lib/python3.10/dist-packages (0.36.0)\n",
            "Requirement already satisfied: numpy in /usr/local/lib/python3.10/dist-packages (1.25.2)\n",
            "Requirement already satisfied: scikit-learn in /usr/local/lib/python3.10/dist-packages (1.2.2)\n",
            "Requirement already satisfied: scipy in /usr/local/lib/python3.10/dist-packages (1.11.4)\n",
            "Requirement already satisfied: joblib in /usr/local/lib/python3.10/dist-packages (1.4.2)\n",
            "Requirement already satisfied: networkx in /usr/local/lib/python3.10/dist-packages (from pennylane) (3.3)\n",
            "Requirement already satisfied: rustworkx in /usr/local/lib/python3.10/dist-packages (from pennylane) (0.14.2)\n",
            "Requirement already satisfied: autograd in /usr/local/lib/python3.10/dist-packages (from pennylane) (1.6.2)\n",
            "Requirement already satisfied: toml in /usr/local/lib/python3.10/dist-packages (from pennylane) (0.10.2)\n",
            "Requirement already satisfied: appdirs in /usr/local/lib/python3.10/dist-packages (from pennylane) (1.4.4)\n",
            "Requirement already satisfied: semantic-version>=2.7 in /usr/local/lib/python3.10/dist-packages (from pennylane) (2.10.0)\n",
            "Requirement already satisfied: autoray>=0.6.1 in /usr/local/lib/python3.10/dist-packages (from pennylane) (0.6.12)\n",
            "Requirement already satisfied: cachetools in /usr/local/lib/python3.10/dist-packages (from pennylane) (5.3.3)\n",
            "Requirement already satisfied: requests in /usr/local/lib/python3.10/dist-packages (from pennylane) (2.31.0)\n",
            "Requirement already satisfied: typing-extensions in /usr/local/lib/python3.10/dist-packages (from pennylane) (4.12.2)\n",
            "Requirement already satisfied: threadpoolctl>=2.0.0 in /usr/local/lib/python3.10/dist-packages (from scikit-learn) (3.5.0)\n",
            "Requirement already satisfied: future>=0.15.2 in /usr/local/lib/python3.10/dist-packages (from autograd->pennylane) (0.18.3)\n",
            "Requirement already satisfied: charset-normalizer<4,>=2 in /usr/local/lib/python3.10/dist-packages (from requests->pennylane) (3.3.2)\n",
            "Requirement already satisfied: idna<4,>=2.5 in /usr/local/lib/python3.10/dist-packages (from requests->pennylane) (3.7)\n",
            "Requirement already satisfied: urllib3<3,>=1.21.1 in /usr/local/lib/python3.10/dist-packages (from requests->pennylane) (2.0.7)\n",
            "Requirement already satisfied: certifi>=2017.4.17 in /usr/local/lib/python3.10/dist-packages (from requests->pennylane) (2024.6.2)\n",
            "Number of samples: 30\n",
            "Number of features: 4\n",
            "Class distribution: [15 15]\n",
            "Classification accuracy: 1.00\n"
          ]
        }
      ]
    },
    {
      "cell_type": "code",
      "source": [
        "K_test[1]"
      ],
      "metadata": {
        "colab": {
          "base_uri": "https://localhost:8080/"
        },
        "id": "aZGibIYEH3qE",
        "outputId": "c3809e67-c536-4a4e-c38a-2b6b05e63e3b"
      },
      "execution_count": null,
      "outputs": [
        {
          "output_type": "execute_result",
          "data": {
            "text/plain": [
              "tensor([7.92698286e-01, 3.07738455e-01, 8.08143246e-04, 1.41061297e-03,\n",
              "        1.19571668e-03, 9.01314464e-01, 1.65062184e-03, 1.55348399e-03,\n",
              "        6.00012491e-05, 1.18016251e-01, 1.04520984e-03, 1.88690624e-03,\n",
              "        1.30108942e-01, 7.60679296e-05, 8.71444011e-01, 6.73823908e-01,\n",
              "        3.82084129e-01, 4.14631936e-01, 6.01163131e-01, 1.67855704e-04,\n",
              "        2.64655972e-04, 1.25065920e-02, 8.97238350e-01, 5.91454025e-04], requires_grad=True)"
            ]
          },
          "metadata": {},
          "execution_count": 7
        }
      ]
    },
    {
      "cell_type": "code",
      "source": [
        "y_test[1]"
      ],
      "metadata": {
        "colab": {
          "base_uri": "https://localhost:8080/"
        },
        "id": "WIoRth2BH-j7",
        "outputId": "f66b7f71-86e7-46a2-e1eb-7170b125745f"
      },
      "execution_count": null,
      "outputs": [
        {
          "output_type": "execute_result",
          "data": {
            "text/plain": [
              "tensor(1, requires_grad=True)"
            ]
          },
          "metadata": {},
          "execution_count": 8
        }
      ]
    },
    {
      "cell_type": "code",
      "source": [
        "X[0]"
      ],
      "metadata": {
        "colab": {
          "base_uri": "https://localhost:8080/"
        },
        "id": "LoBuYki5INIX",
        "outputId": "65e4e97f-9bab-4fd6-ccac-7be754fcfe6b"
      },
      "execution_count": null,
      "outputs": [
        {
          "output_type": "execute_result",
          "data": {
            "text/plain": [
              "tensor([5.1, 3.5, 1.4, 0.2], requires_grad=True)"
            ]
          },
          "metadata": {},
          "execution_count": 9
        }
      ]
    },
    {
      "cell_type": "code",
      "source": [
        "y[0]"
      ],
      "metadata": {
        "colab": {
          "base_uri": "https://localhost:8080/"
        },
        "id": "JYoQ60zQIQG2",
        "outputId": "496c0d20-1765-48aa-81b8-63f998f569c8"
      },
      "execution_count": null,
      "outputs": [
        {
          "output_type": "execute_result",
          "data": {
            "text/plain": [
              "tensor(0, requires_grad=True)"
            ]
          },
          "metadata": {},
          "execution_count": 10
        }
      ]
    },
    {
      "cell_type": "code",
      "source": [
        "import numpy as np\n",
        "import matplotlib.pyplot as plt\n",
        "from sklearn.svm import SVC\n",
        "from joblib import Parallel, delayed\n",
        "import pennylane as qml\n",
        "\n",
        "# Assuming you have these variables from previous steps\n",
        "# X, y, optimized_qek_matrix, optimized_params, X_train, X_test, y_train, y_test\n",
        "\n",
        "# Use only the first two features for visualization purposes\n",
        "X_2d = X[:, :2]\n",
        "X_train_2d = X_train[:, :2]\n",
        "X_test_2d = X_test[:, :2]\n",
        "\n",
        "# Define the number of qubits based on the reduced feature set (2 features)\n",
        "n_qubits = X_2d.shape[1]\n",
        "dev = qml.device('default.qubit', wires=n_qubits)\n",
        "\n",
        "# Define a simpler quantum feature map\n",
        "def quantum_feature_map(x, params):\n",
        "    for i in range(n_qubits):\n",
        "        qml.RY(x[i], wires=i)\n",
        "    for i in range(n_qubits):\n",
        "        qml.RZ(params[i], wires=i)\n",
        "\n",
        "# Define the variational quantum circuit\n",
        "@qml.qnode(dev)\n",
        "def variational_circuit(x, params):\n",
        "    quantum_feature_map(x, params)\n",
        "    return qml.state()\n",
        "\n",
        "# Function to compute the kernel matrix element\n",
        "def compute_kernel_element(x1, x2, params):\n",
        "    state_x1 = variational_circuit(x1, params)\n",
        "    state_x2 = variational_circuit(x2, params)\n",
        "    return np.abs(np.dot(np.conj(state_x1), state_x2))**2\n",
        "\n",
        "# Precompute the kernel matrix between the grid points and training data\n",
        "def compute_kernel_matrix(grid_points, X_train, params):\n",
        "    kernel_matrix = np.zeros((len(grid_points), len(X_train)))\n",
        "    for i, grid_point in enumerate(grid_points):\n",
        "        for j, x_train in enumerate(X_train):\n",
        "            kernel_matrix[i, j] = compute_kernel_element(grid_point, x_train, params)\n",
        "    return kernel_matrix\n",
        "\n",
        "# Create a mesh to plot the decision boundary\n",
        "h = .1  # Increased step size to reduce number of grid points\n",
        "x_min, x_max = X_2d[:, 0].min() - 1, X_2d[:, 0].max() + 1\n",
        "y_min, y_max = X_2d[:, 1].min() - 1, X_2d[:, 1].max() + 1\n",
        "xx, yy = np.meshgrid(np.arange(x_min, x_max, h), np.arange(y_min, y_max, h))\n",
        "grid_points = np.c_[xx.ravel(), yy.ravel()]\n",
        "\n",
        "# Compute the kernel matrix for the grid points\n",
        "grid_kernel_matrix = compute_kernel_matrix(grid_points, X_train_2d, optimized_params)\n",
        "\n",
        "# Compute the optimized kernel matrix for the reduced 2D training set\n",
        "def compute_qek_matrix(X, params):\n",
        "    n_samples = len(X)\n",
        "    qek_matrix = np.zeros((n_samples, n_samples))\n",
        "\n",
        "    for i in range(n_samples):\n",
        "        for j in range(n_samples):\n",
        "            qek_matrix[i, j] = compute_kernel_element(X[i], X[j], params)\n",
        "\n",
        "    return qek_matrix\n",
        "\n",
        "# Compute the optimized QEK matrix for the reduced 2D training set\n",
        "optimized_qek_matrix_2d = compute_qek_matrix(X_train_2d, optimized_params)\n",
        "\n",
        "# Train the SVM classifier on the 2D quantum kernel\n",
        "svm_2d = SVC(kernel='precomputed')\n",
        "svm_2d.fit(optimized_qek_matrix_2d, y_train)\n",
        "\n",
        "# Predict the class for each point in the mesh using the precomputed kernel matrix\n",
        "Z = svm_2d.predict(grid_kernel_matrix)\n",
        "Z = Z.reshape(xx.shape)\n",
        "\n",
        "# Plot the decision boundary by assigning a color to each point in the mesh\n",
        "plt.contourf(xx, yy, Z, cmap=plt.cm.coolwarm, alpha=0.8)\n",
        "\n",
        "# Plot also the training points\n",
        "plt.scatter(X_2d[:, 0], X_2d[:, 1], c=y, cmap=plt.cm.coolwarm, edgecolors='k')\n",
        "plt.xlabel('Feature 1')\n",
        "plt.ylabel('Feature 2')\n",
        "plt.title('SVM Decision Boundary with Quantum Kernel')\n",
        "plt.show()\n"
      ],
      "metadata": {
        "colab": {
          "base_uri": "https://localhost:8080/",
          "height": 472
        },
        "id": "CPcfSnqVW8Aa",
        "outputId": "e8d2b6c8-8a75-46a2-c3ef-10290c0066ee"
      },
      "execution_count": null,
      "outputs": [
        {
          "output_type": "display_data",
          "data": {
            "text/plain": [
              "<Figure size 640x480 with 1 Axes>"
            ],
            "image/png": "[encoded data removed]"
          },
          "metadata": {}
        }
      ]
    }
  ]
}